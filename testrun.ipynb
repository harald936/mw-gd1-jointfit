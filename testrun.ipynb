{
 "cells": [
  {
   "cell_type": "code",
   "execution_count": 2,
   "id": "443817a6-3c1d-485c-bcae-606a92efeddd",
   "metadata": {},
   "outputs": [
    {
     "name": "stdout",
     "output_type": "stream",
     "text": [
      "Python: 3.11.13 | packaged by conda-forge | (main, Jun  4 2025, 14:52:34) [Clang 18.1.8 ]\n",
      "Platform: macOS-15.5-arm64-arm-64bit\n",
      "numpy: 2.3.3\n",
      "pandas: 2.3.2\n",
      "matplotlib: 3.10.6\n",
      "scipy: 1.16.2\n",
      "astropy: 7.1.0\n",
      "jax: 0.4.26\n",
      "JAX backend: cpu\n",
      "numpyro: 0.14.0\n",
      "blackjax: 1.2.4\n",
      "tinygp: 0.2.4\n",
      "gala: 1.10.1\n",
      "galpy: 1.11.0\n"
     ]
    }
   ],
   "source": [
    "import sys, platform\n",
    "print(\"Python:\", sys.version)\n",
    "print(\"Platform:\", platform.platform())\n",
    "\n",
    "import numpy as np, pandas as pd, matplotlib, scipy, astropy\n",
    "print(\"numpy:\", np.__version__)\n",
    "print(\"pandas:\", pd.__version__)\n",
    "print(\"matplotlib:\", matplotlib.__version__)\n",
    "print(\"scipy:\", scipy.__version__)\n",
    "print(\"astropy:\", astropy.__version__)\n",
    "\n",
    "# JAX / NumPyro / TinyGP (optional but recommended)\n",
    "try:\n",
    "    import jax, jax.numpy as jnp\n",
    "    print(\"jax:\", jax.__version__)\n",
    "    from jax.lib import xla_bridge\n",
    "    print(\"JAX backend:\", xla_bridge.get_backend().platform)\n",
    "except Exception as e:\n",
    "    print(\"JAX check failed:\", e)\n",
    "\n",
    "for pkg in (\"numpyro\", \"blackjax\", \"tinygp\"):\n",
    "    try:\n",
    "        mod = __import__(pkg)\n",
    "        print(f\"{pkg}:\", mod.__version__)\n",
    "    except Exception as e:\n",
    "        print(f\"{pkg} not found:\", e)\n",
    "\n",
    "# Dynamics libs (optional)\n",
    "for pkg in (\"gala\", \"galpy\"):\n",
    "    try:\n",
    "        mod = __import__(pkg)\n",
    "        print(f\"{pkg}:\", getattr(mod, \"__version__\", \"\"))\n",
    "    except Exception as e:\n",
    "        print(f\"{pkg} not found:\", e)\n"
   ]
  },
  {
   "cell_type": "code",
   "execution_count": null,
   "id": "e47380de-b394-4273-8204-55f7dc5ec891",
   "metadata": {},
   "outputs": [],
   "source": []
  }
 ],
 "metadata": {
  "kernelspec": {
   "display_name": "Python (mwfit)",
   "language": "python",
   "name": "mwfit"
  },
  "language_info": {
   "codemirror_mode": {
    "name": "ipython",
    "version": 3
   },
   "file_extension": ".py",
   "mimetype": "text/x-python",
   "name": "python",
   "nbconvert_exporter": "python",
   "pygments_lexer": "ipython3",
   "version": "3.11.13"
  }
 },
 "nbformat": 4,
 "nbformat_minor": 5
}
